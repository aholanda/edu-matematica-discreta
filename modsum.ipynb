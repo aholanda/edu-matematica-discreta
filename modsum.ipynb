{
  "cells": [
    {
      "cell_type": "markdown",
      "metadata": {
        "id": "view-in-github",
        "colab_type": "text"
      },
      "source": [
        "<a href=\"https://colab.research.google.com/github/aholanda/edu-matematica-discreta/blob/main/modsum.ipynb\" target=\"_parent\"><img src=\"https://colab.research.google.com/assets/colab-badge.svg\" alt=\"Open In Colab\"/></a>"
      ]
    },
    {
      "cell_type": "markdown",
      "id": "meaning-guide",
      "metadata": {
        "id": "meaning-guide"
      },
      "source": [
        "# Somas e Recorrências"
      ]
    },
    {
      "cell_type": "markdown",
      "id": "initial-absorption",
      "metadata": {
        "id": "initial-absorption"
      },
      "source": [
        "A soma\n",
        "\n",
        "$$S_n = \\sum_{k=0}^n a_k$$\n",
        "\n",
        "é equivalente à recorrência\n",
        "\n",
        "\\begin{align}\n",
        "S_0 &= a_0;\\\\\n",
        "S_n &= S_{n-1} + a_n, \\qquad \\text{para}\\ n>0.\n",
        "\\end{align}"
      ]
    },
    {
      "cell_type": "markdown",
      "id": "focused-person",
      "metadata": {
        "id": "focused-person"
      },
      "source": [
        "## Manipulação de somas\n",
        "\n",
        "$$\\sum_{k\\in K}c\\ a_k = c \\sum_{k\\in K}a_k \\qquad \\text{(lei distributiva)}$$\n",
        "$$\\sum_{k\\in K}(a_k + b_k) =  \\sum_{k\\in K}a_k + \\sum_{k\\in K}b_k \\qquad \\text{(lei associativa)}$$\n",
        "$$\\sum_{k\\in K}a_k =  \\sum_{p(k)\\in K}a_{p(k)} \\qquad \\text{(lei comutativa)}$$"
      ]
    },
    {
      "cell_type": "markdown",
      "id": "starting-speech",
      "metadata": {
        "id": "starting-speech"
      },
      "source": [
        "# Funções de Inteiros"
      ]
    },
    {
      "cell_type": "markdown",
      "id": "english-buffalo",
      "metadata": {
        "id": "english-buffalo"
      },
      "source": [
        "## Piso e teto\n",
        "\n",
        "**Piso** (*floor*): $\\lfloor x\\rfloor$ = o maior inteiro menor ou igual a $x$. Exemplos:\n",
        "\n",
        "$\\lfloor 2,3\\rfloor = 2$, $\\qquad\\lfloor 2,7\\rfloor = 2$, $\\qquad\\lfloor -2,7\\rfloor = -3$.\n",
        "\n",
        "**Teto** (*ceil*): $\\lceil x\\rceil$ = o menor inteiro maior ou igual a $x$.\n",
        "\n",
        "$\\lceil 2,3\\rceil = 3$, $\\qquad\\lceil 2,7\\rceil = 3$, $\\qquad\\lceil -2,7\\rceil = -2$."
      ]
    },
    {
      "cell_type": "code",
      "execution_count": 1,
      "id": "fleet-mozambique",
      "metadata": {
        "colab": {
          "base_uri": "https://localhost:8080/"
        },
        "id": "fleet-mozambique",
        "outputId": "4382c444-2b46-444d-cee8-bffd41af3246"
      },
      "outputs": [
        {
          "output_type": "stream",
          "name": "stdout",
          "text": [
            "Números: [2.3, 2.7, -2.7]\n",
            "Pisos: [2, 2, -3]\n",
            "Tetos: [3, 3, -2]\n"
          ]
        }
      ],
      "source": [
        "import math\n",
        "nums = [2.3, 2.7, -2.7]\n",
        "print(\"Números:\", nums)\n",
        "pisos = [math.floor(nums[0]), math.floor(nums[1]), math.floor(nums[2])]\n",
        "print(\"Pisos:\", pisos)\n",
        "tetos = [math.ceil(nums[0]), math.ceil(nums[1]), math.ceil(nums[2])]\n",
        "print(\"Tetos:\", tetos)"
      ]
    },
    {
      "cell_type": "markdown",
      "id": "delayed-queens",
      "metadata": {
        "id": "delayed-queens"
      },
      "source": [
        "# Operação Módulo"
      ]
    },
    {
      "cell_type": "markdown",
      "id": "adopted-ivory",
      "metadata": {
        "id": "adopted-ivory"
      },
      "source": [
        "A partir da fórmula básica\n",
        "\n",
        "$$x = y\\lfloor x/y\\rfloor + x\\ \\text{mod}\\ y $$\n",
        "\n",
        "onde\n",
        "\n",
        "$\\lfloor x/y\\rfloor$ é o quociente da divisão;\n",
        "\n",
        "$x\\ \\text{mod}\\ y$ é o resto da divisão.\n",
        "\n",
        "Obtemos\n",
        "\n",
        "$$x\\ \\text{mod}\\ y = x - y\\lfloor x/y \\rfloor$$"
      ]
    },
    {
      "cell_type": "markdown",
      "id": "municipal-yahoo",
      "metadata": {
        "id": "municipal-yahoo"
      },
      "source": [
        "**Exemplos**\n",
        "\n",
        "\\begin{align}\n",
        "5\\ \\text{mod}\\ 3 & = \\ 5 - 3\\lfloor 5/3 \\rfloor &=&\\quad 5 - (3 \\times 1) & = &\\quad 2\\\\\n",
        "5\\ \\text{mod}\\ -3 & = \\ 5 - (-3)\\lfloor 5/(-3) \\rfloor & = &\\quad 5 - (-3 \\times -2)  & = & -1\\\\\n",
        "-5\\ \\text{mod}\\ 3 & = \\ -5 - 3\\lfloor -5/3 \\rfloor & = &\\quad -5 - (3\\times -2) & = & \\quad 1\\\\\n",
        "-5\\ \\text{mod}\\ -3 & = \\ -5 - (-3)\\lfloor -5/(-3) \\rfloor & = &\\quad -5 - (-3 \\times 1) & = & -2\\\\\n",
        "\\end{align}"
      ]
    },
    {
      "cell_type": "code",
      "execution_count": null,
      "id": "geological-democrat",
      "metadata": {
        "id": "geological-democrat",
        "outputId": "22b57a2f-676b-4d86-f9fb-74cbe60892c4"
      },
      "outputs": [
        {
          "name": "stdout",
          "output_type": "stream",
          "text": [
            " 5 mod  3 =  2\n",
            " 5 mod -3 = -1\n",
            "-5 mod  3 =  1\n",
            "-5 mod -3 = -2\n"
          ]
        }
      ],
      "source": [
        "# Em Python e C, o operador módulo (mod) é `%`\n",
        "x=5; y=3\n",
        "print(' {} mod  {} =  {}'.format(x, y, x % y))\n",
        "print(' {} mod {} = {}'.format(x, -y, x % -y))\n",
        "print('{} mod  {} =  {}'.format(-x, y, -x % y))\n",
        "print('{} mod {} = {}'.format(-x, -y, -x % -y))"
      ]
    },
    {
      "cell_type": "markdown",
      "id": "worth-china",
      "metadata": {
        "id": "worth-china"
      },
      "source": [
        "**Aplicações**"
      ]
    },
    {
      "cell_type": "markdown",
      "id": "adequate-simon",
      "metadata": {
        "id": "adequate-simon"
      },
      "source": [
        "# *Bibliografia*\n",
        "\n",
        "- Judy Graham, Donald Knuth, Oren Patashnik. \n",
        "\"[Matemática Concreta: Fundamentos Para a Ciência da Computação](https://www.amazon.com.br/Matem%C3%A1tica-Concreta-Fundamentos-Ci%C3%AAncia-Computa%C3%A7%C3%A3o/dp/8521610408)\".\n",
        "LTC Editora; 2ª edição, 1995."
      ]
    }
  ],
  "metadata": {
    "celltoolbar": "Slideshow",
    "kernelspec": {
      "display_name": "Python 3",
      "language": "python",
      "name": "python3"
    },
    "language_info": {
      "codemirror_mode": {
        "name": "ipython",
        "version": 3
      },
      "file_extension": ".py",
      "mimetype": "text/x-python",
      "name": "python",
      "nbconvert_exporter": "python",
      "pygments_lexer": "ipython3",
      "version": "3.9.2"
    },
    "colab": {
      "name": "modsum",
      "provenance": [],
      "collapsed_sections": [],
      "include_colab_link": true
    }
  },
  "nbformat": 4,
  "nbformat_minor": 5
}