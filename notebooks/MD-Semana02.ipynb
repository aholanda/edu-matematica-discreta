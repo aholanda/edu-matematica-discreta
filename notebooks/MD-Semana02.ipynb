{
 "cells": [
  {
   "cell_type": "markdown",
   "id": "correct-section",
   "metadata": {
    "slideshow": {
     "slide_type": "slide"
    }
   },
   "source": [
    "# Teoria dos Conjuntos\n",
    "\n",
    "*Definição*: **Teoria dos conjuntos** é o ramo da matemática que estuda os conjuntos,\n",
    "que são coleções de objetos.\n",
    "\n",
    "## Características\n",
    "\n",
    "- É o sistema fundamental[<sup>1</sup>](#fn1) empregado na matemática atualmente;\n",
    "- A linguagem da teoria de conjuntos pode ser usada na definição de quase todos os objetos matemáticos.\n",
    "\n",
    "---\n",
    "<sup>1</sup><span id=\"fn1\"> A teoria de conjuntos em questão refere-se ao sistema ZFC, ou seja, o conjunto de axiomas de Zermelo-Fraenkel somados ao axioma da escolha.</span>"
   ]
  },
  {
   "cell_type": "markdown",
   "id": "architectural-saying",
   "metadata": {
    "slideshow": {
     "slide_type": "slide"
    }
   },
   "source": [
    "## Exemplos de Conjuntos\n",
    "    \n",
    "| Notação                    | Descrição                                                  |\n",
    "| :------------------------- | :--------------------------------------------------------- |\n",
    "| $\\{$\"aba\" $,$ \"carro$\"\\}$  | conjunto formado pelas *strings* \"aba\" e \"carro\"           |\n",
    "| $\\{1,2,3\\}$                | conjunto formado pelos números inteiros $1, 2, 3$          |\n",
    "| $N$                        | conjunto dos números **naturais** $0,1,2,\\dots$            |\n",
    "| $R$                        | conjunto dos números **reais**                             |\n",
    "| $\\emptyset$                | conjunto **vazio**, possui nenhum elemento                 |\n",
    "| $\\{x|x$ é par$\\}$          | conjunto dos números **pares**                             |\n",
    "| $\\{\\{1\\},2\\}$              | conjunto contendo número $2$ e o conjunto com o número $1$ |\n",
    "  "
   ]
  },
  {
   "cell_type": "markdown",
   "id": "smaller-waterproof",
   "metadata": {
    "slideshow": {
     "slide_type": "slide"
    }
   },
   "source": [
    "## Conceitos Básicos"
   ]
  },
  {
   "cell_type": "markdown",
   "id": "brave-jewelry",
   "metadata": {
    "slideshow": {
     "slide_type": "subslide"
    }
   },
   "source": [
    "### Tamanho de um Conjunto\n",
    "\n",
    "Dado um conjunto $A$, tamanho do conjunto $A$ é representado pela notação\n",
    "\n",
    "$$|A|.$$\n",
    "\n",
    "Examplo:\n",
    "\n",
    "$A=\\{2,4,5,7,8,11,13,15\\}$<br>\n",
    "$|A|=8$"
   ]
  },
  {
   "cell_type": "code",
   "execution_count": null,
   "id": "joint-walnut",
   "metadata": {
    "scrolled": true,
    "slideshow": {
     "slide_type": "fragment"
    }
   },
   "outputs": [],
   "source": [
    "𝐴 = {2,4,5,7,8,11,13,15}\n",
    "len(A)"
   ]
  },
  {
   "cell_type": "markdown",
   "id": "turkish-pottery",
   "metadata": {
    "slideshow": {
     "slide_type": "subslide"
    }
   },
   "source": [
    "### Relação de Pertinência\n",
    "\n",
    "$o \\in A$ - o objeto $o$ **pertence** ao conjunto $A$.\n",
    "\n",
    "Exemplo:\n",
    "\n",
    "O elemento $1$ **pertence** ao conjunto $\\{1,2,3\\}$, mas $4$ **não**."
   ]
  },
  {
   "cell_type": "code",
   "execution_count": null,
   "id": "competent-million",
   "metadata": {
    "slideshow": {
     "slide_type": "fragment"
    }
   },
   "outputs": [],
   "source": [
    "1 in {1,2,3}"
   ]
  },
  {
   "cell_type": "code",
   "execution_count": null,
   "id": "first-giant",
   "metadata": {
    "scrolled": true,
    "slideshow": {
     "slide_type": "fragment"
    }
   },
   "outputs": [],
   "source": [
    "4 in {1,2,3}"
   ]
  },
  {
   "cell_type": "markdown",
   "id": "advanced-tonight",
   "metadata": {
    "slideshow": {
     "slide_type": "subslide"
    }
   },
   "source": [
    "### Relação de Inclusão\n",
    "\n",
    "$A\\subseteq B$ - o conjunto $A$ **está contido** no conjunto $B$, ou seja, $A$ é formado por um **subconjunto** de $B$. \n",
    "\n",
    "Exemplo:\n",
    "\n",
    "$\\{1,2\\}$ é um **subconjunto** de $\\{1,2,3\\}$, mas $\\{3,4\\}$ **não**."
   ]
  },
  {
   "cell_type": "code",
   "execution_count": null,
   "id": "theoretical-gateway",
   "metadata": {
    "scrolled": true,
    "slideshow": {
     "slide_type": "fragment"
    }
   },
   "outputs": [],
   "source": [
    "{1,2} <= {1,2,3}"
   ]
  },
  {
   "cell_type": "code",
   "execution_count": null,
   "id": "political-antigua",
   "metadata": {
    "scrolled": true,
    "slideshow": {
     "slide_type": "fragment"
    }
   },
   "outputs": [],
   "source": [
    "{1,2}.issubset({1,2,3})"
   ]
  },
  {
   "cell_type": "code",
   "execution_count": null,
   "id": "attractive-reference",
   "metadata": {
    "scrolled": true,
    "slideshow": {
     "slide_type": "fragment"
    }
   },
   "outputs": [],
   "source": [
    "{3,4} <= {1,2,3}"
   ]
  },
  {
   "cell_type": "code",
   "execution_count": null,
   "id": "three-resistance",
   "metadata": {
    "scrolled": true,
    "slideshow": {
     "slide_type": "fragment"
    }
   },
   "outputs": [],
   "source": [
    "{3,4}.issubset({1,2,3})"
   ]
  },
  {
   "cell_type": "markdown",
   "id": "surprised-puzzle",
   "metadata": {
    "slideshow": {
     "slide_type": "subslide"
    }
   },
   "source": [
    "### Subconjunto\n",
    "\n",
    "Sejam os conjuntos $A$ e $B$. Dizemos que $A$ é um **subconjunto** de $B$, se e somente se, **todo** elemento de $A$ também for elemento de $B$. A notação $A\\subseteq B$ significa que $A$ é um **subconjunto** de $B$.\n",
    "  \n",
    "Exemplo:\n",
    "\n",
    "$A=\\{2,3,5\\}$, $B=\\{1,2,3,4,5,6\\}$ $\\Rightarrow$ $A \\subseteq B$\n"
   ]
  },
  {
   "cell_type": "code",
   "execution_count": null,
   "id": "confidential-mining",
   "metadata": {
    "scrolled": true,
    "slideshow": {
     "slide_type": "fragment"
    }
   },
   "outputs": [],
   "source": [
    "A = {2,3,5}\n",
    "B = {1,2,3,4,5,6}\n",
    "A <= B"
   ]
  },
  {
   "cell_type": "code",
   "execution_count": null,
   "id": "developed-basis",
   "metadata": {
    "scrolled": true,
    "slideshow": {
     "slide_type": "fragment"
    }
   },
   "outputs": [],
   "source": [
    "A.issubset(B)"
   ]
  },
  {
   "cell_type": "markdown",
   "id": "prompt-george",
   "metadata": {
    "slideshow": {
     "slide_type": "slide"
    }
   },
   "source": [
    "## Operações sobre Conjuntos"
   ]
  },
  {
   "cell_type": "markdown",
   "id": "cooked-newfoundland",
   "metadata": {
    "slideshow": {
     "slide_type": "subslide"
    }
   },
   "source": [
    "### União\n",
    "\n",
    "Dados dois conjuntos $A$ e $B$, a **união** $A$ com $B$ é definida por\n",
    "\n",
    "$$A\\cup B \\Rightarrow x | x \\in A \\vee x \\in B.$$\n",
    "\n",
    "Exemplo:\n",
    "\n",
    "$A=\\{1,3,7\\}$\n",
    "\n",
    "$B=\\{2,4\\}$\n",
    "\n",
    "$A\\cup B = \\{1,2,3,4,7\\}$"
   ]
  },
  {
   "cell_type": "code",
   "execution_count": null,
   "id": "fresh-paragraph",
   "metadata": {
    "scrolled": true,
    "slideshow": {
     "slide_type": "fragment"
    }
   },
   "outputs": [],
   "source": [
    "𝐴 = {1,3,7} \n",
    "𝐵 = {2,4}\n",
    "A | B"
   ]
  },
  {
   "cell_type": "code",
   "execution_count": null,
   "id": "minus-aside",
   "metadata": {
    "scrolled": true,
    "slideshow": {
     "slide_type": "fragment"
    }
   },
   "outputs": [],
   "source": [
    "A.union(B)"
   ]
  },
  {
   "cell_type": "markdown",
   "id": "appreciated-resistance",
   "metadata": {
    "slideshow": {
     "slide_type": "subslide"
    }
   },
   "source": [
    "### Intersecção\n",
    "\n",
    "Dados dois conjuntos $A$ e $B$, a **intersecção** $A$ com $B$ é definida por\n",
    "\n",
    "$$A\\cap B \\Rightarrow x | x \\in A \\land x \\in B.$$\n",
    "\n",
    "Exemplo:\n",
    "\n",
    "$A=\\{1,2,3,4,7\\}$\n",
    "\n",
    "$B=\\{2,4,5\\}$\n",
    "\n",
    "$A\\cap B = \\{2,4\\}$"
   ]
  },
  {
   "cell_type": "code",
   "execution_count": null,
   "id": "mounted-works",
   "metadata": {
    "scrolled": true,
    "slideshow": {
     "slide_type": "fragment"
    }
   },
   "outputs": [],
   "source": [
    "𝐴={1,2,3,4,7} \n",
    "𝐵={2,4,5}\n",
    "A & B"
   ]
  },
  {
   "cell_type": "code",
   "execution_count": null,
   "id": "electoral-password",
   "metadata": {
    "scrolled": true,
    "slideshow": {
     "slide_type": "fragment"
    }
   },
   "outputs": [],
   "source": [
    "A.intersection(B)"
   ]
  },
  {
   "cell_type": "markdown",
   "id": "powerful-killing",
   "metadata": {
    "slideshow": {
     "slide_type": "subslide"
    }
   },
   "source": [
    "### Diferença\n",
    "\n",
    "Dados dois conjuntos $A$ e $B$, a **diferença** de $A$ com $B$ é definida por\n",
    "\n",
    "$$A\\backslash B \\Rightarrow x | x \\in A \\land x \\notin B.$$\n",
    "\n",
    "Exemplo:\n",
    "\n",
    "$A=\\{1,2,3,4,7\\}$\n",
    "\n",
    "$B=\\{2,4,5\\}$\n",
    "\n",
    "$A\\backslash B = \\{1,3,7\\}$"
   ]
  },
  {
   "cell_type": "code",
   "execution_count": null,
   "id": "animated-vancouver",
   "metadata": {
    "scrolled": true,
    "slideshow": {
     "slide_type": "fragment"
    }
   },
   "outputs": [],
   "source": [
    "𝐴 = {1,2,3,4,7} \n",
    "𝐵 = {2,4,5}\n",
    "𝐴 - 𝐵"
   ]
  },
  {
   "cell_type": "code",
   "execution_count": null,
   "id": "violent-diana",
   "metadata": {
    "scrolled": true,
    "slideshow": {
     "slide_type": "fragment"
    }
   },
   "outputs": [],
   "source": [
    "A.difference(B)"
   ]
  },
  {
   "cell_type": "markdown",
   "id": "humanitarian-response",
   "metadata": {
    "slideshow": {
     "slide_type": "subslide"
    }
   },
   "source": [
    "### Diferença Simétrica\n",
    "\n",
    "Dados dois conjuntos $A$ e $B$, a **diferença simétrica** de $A$ com $B$ é definida por\n",
    "\n",
    "$$A\\Delta B \\Rightarrow (A \\cup B) \\backslash (A \\cap B).$$\n",
    "\n",
    "Exemplo:\n",
    "\n",
    "$A=\\{1,2,3,4,7\\}$\n",
    "\n",
    "$B=\\{2,4,5\\}$\n",
    "\n",
    "$A\\backslash B = \\{1,3,5,7\\}$"
   ]
  },
  {
   "cell_type": "code",
   "execution_count": null,
   "id": "cardiac-exhibit",
   "metadata": {
    "scrolled": true,
    "slideshow": {
     "slide_type": "fragment"
    }
   },
   "outputs": [],
   "source": [
    "𝐴 = {1,2,3,4,7} \n",
    "𝐵 = {2,4,5}\n",
    "𝐴 ^ 𝐵"
   ]
  },
  {
   "cell_type": "code",
   "execution_count": null,
   "id": "alike-patio",
   "metadata": {
    "scrolled": true,
    "slideshow": {
     "slide_type": "fragment"
    }
   },
   "outputs": [],
   "source": [
    "A.symmetric_difference(B)"
   ]
  },
  {
   "cell_type": "markdown",
   "id": "flying-uruguay",
   "metadata": {
    "slideshow": {
     "slide_type": "slide"
    }
   },
   "source": [
    "### Exercício\n",
    "\n",
    "Para os conjuntos $A = \\{a, d, e, f, g\\}$ e $B = \\{a, b, c, e, h, i\\}$, realize as seguintes operações:\n",
    "\n",
    "a. $A \\cup B$<br>\n",
    "b. $A \\cap B$<br>\n",
    "c. $A \\backslash B$<br>\n",
    "d. $A \\Delta B$<br>"
   ]
  },
  {
   "cell_type": "code",
   "execution_count": null,
   "id": "empty-hybrid",
   "metadata": {
    "scrolled": true,
    "slideshow": {
     "slide_type": "fragment"
    }
   },
   "outputs": [],
   "source": [
    "A = {'a', 'd', 'e', 'f', 'g'}\n",
    "B = {'a', 'b', 'c', 'e', 'h', 'i'}\n",
    "print('união', A | B)\n",
    "print('intersecção', A & B)\n",
    "print('diferença', A - B)\n",
    "print('diferença simétrica', A ^ B)"
   ]
  },
  {
   "cell_type": "markdown",
   "id": "median-recorder",
   "metadata": {
    "slideshow": {
     "slide_type": "subslide"
    }
   },
   "source": [
    "### Produto Cartesiano\n",
    "\n",
    "Dados dois conjuntos $A$ e $B$, o **produto cartesiano** é definido por\n",
    "\n",
    "$$A\\times B = \\{(x,y) | x \\in A \\lor y \\in B\\}$$\n",
    "\n",
    "$(x,y)$ é uma **tupla** ordenada onde $x$ pertence a $A$ e $y$ a $B$.\n",
    "\n",
    "Exemplo:<br>\n",
    "$A=\\{1,2,4\\}$<br>\n",
    "$B=\\{2,3,4,7\\}$<br>\n",
    "\n",
    "$A\\times B = \\{(1,2),(1,3),(1,4),(1,7),(2,2),(2,3),(2,4),(2,7),(4,2),(4,3),(4,4),(4,7)\\}$\n"
   ]
  },
  {
   "cell_type": "code",
   "execution_count": null,
   "id": "respective-drawing",
   "metadata": {
    "scrolled": true,
    "slideshow": {
     "slide_type": "fragment"
    }
   },
   "outputs": [],
   "source": [
    "𝐴={1,2,4}\n",
    "𝐵={2,3,4,7}\n",
    "lista = []\n",
    "for x in A:\n",
    "    for y in B:\n",
    "        lista.append((x,y))\n",
    "AxB = set(lista)\n",
    "print(AxB)"
   ]
  },
  {
   "cell_type": "markdown",
   "id": "vertical-compromise",
   "metadata": {
    "slideshow": {
     "slide_type": "-"
    }
   },
   "source": [
    "## Exercícios\n",
    "\n",
    "1. Dados os seguintes conjuntos:\n",
    "$$A=\\{p,q,t,w\\}$$\n",
    "$$ B = \\{r,t,v\\}$$ \n",
    "$$C=\\{p,s,t,u\\}$$\n",
    "\n",
    "Então determine:\n",
    "\n",
    "a. $B\\cap C$<br>\n",
    "b. $B\\cap C$<br>\n",
    "c. $A\\cup C$<br>\n",
    "d. $|A\\cup C|$<br>\n",
    "e. $A \\cap B \\cap C$<br>\n",
    "f. $B \\backslash C$<br>\n",
    "g. $(A\\cup B)\\cap C$<br>\n",
    "h. $A\\times B$<br>\n",
    "i. $B\\times C$\n",
    "\n",
    "---\n",
    "\n",
    "2. Dados os seguintes conjuntos:\n",
    "$$A=\\{2,4,5,6,7\\}$$\n",
    "$$B=\\{1,4,5,9\\}$$\n",
    "$$C=\\{x:x\\in \\mathbb{Z}\\land 2\\leq x<5\\}$$\n",
    "\n",
    "Então, determine:\n",
    "\n",
    "a. $B\\cup C$<br>\n",
    "b. $|B\\cup C|$<br>\n",
    "c. $B\\cap C$<br>\n",
    "d. $|B\\cap C|$<br>\n",
    "e. $A\\cup C$<br>\n",
    "f  $B\\backslash A$<br>\n",
    "g. $C\\backslash A$<br>\n",
    "h. $(C\\backslash A)\\cap (A\\backslash C)$<br>\n",
    "i. $A\\times B$<br>\n",
    "j. $B\\times C$\n",
    "\n",
    "---\n",
    "\n",
    "3. Para os conjuntos $A=\\{1,2,3,4,5\\}$ e $B=\\{4,5,6,7\\}$, determine:\n",
    "\n",
    "a. $A\\cup B$<br>\n",
    "b. $A\\cap B$<br>\n",
    "c. $A\\backslash B$<br>\n",
    "d. $B\\backslash A$<br>\n",
    "e. $A\\Delta B$<br>\n",
    "f. $B\\Delta A$<br>\n",
    "g. $A\\times B$<br>\n",
    "h. $B\\times A$<br>\n",
    "\n",
    "---\n",
    "\n",
    "4. Sejam $A$ e $B$ conjuntos e suponha que  $A\\times B=\\{(1,2),(1,3),(2,2),(2,3)\\}$. Encontre $A\\cup B$, $A\\cap B$, $A\\backslash B$.\n",
    "\n",
    "---\n",
    "\n",
    "5. Suponha que $A$ e $B$ sejam conjuntos finitos. Dado que $|A|=10$,\n",
    " $|A\\cup B|=15$ e $|A\\cap B|=3$, determine $|B|$."
   ]
  },
  {
   "cell_type": "markdown",
   "id": "accompanied-chicken",
   "metadata": {},
   "source": [
    "## Referências\n",
    "\n",
    "- Clifford Stein, Robert L. Drysdale, Kenneth Bogart. [\"Matemática discreta para ciência da computação\"](https://plataforma.bvirtual.com.br/Acervo/Publicacao/3824). Editora Pearson,  1° Edição, 2013. [Biblioteca Virtual](https://plataforma.bvirtual.com.br/Acervo/Publicacao/3824)\n",
    "- Edward R. Scheinerman. [\"Matemática discreta: Uma introdução\", 2<sup>a.</sup> edição](https://www.amazon.com.br/Matem%C3%A1tica-Discreta-Introdu%C3%A7%C3%A3o-Edward-Scheinerman/dp/8522107963/). Cengage Learning, 2011. (Existe uma versão mais recente: 3<sup>a.</sup> edição)"
   ]
  }
 ],
 "metadata": {
  "authors": [
   {
    "name": "Adriano J. Holanda"
   }
  ],
  "celltoolbar": "Slideshow",
  "kernelspec": {
   "display_name": "Python 3",
   "language": "python",
   "name": "python3"
  },
  "language_info": {
   "codemirror_mode": {
    "name": "ipython",
    "version": 3
   },
   "file_extension": ".py",
   "mimetype": "text/x-python",
   "name": "python",
   "nbconvert_exporter": "python",
   "pygments_lexer": "ipython3",
   "version": "3.8.5"
  }
 },
 "nbformat": 4,
 "nbformat_minor": 5
}
