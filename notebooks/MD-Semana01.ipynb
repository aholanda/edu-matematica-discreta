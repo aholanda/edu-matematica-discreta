{
 "cells": [
  {
   "cell_type": "markdown",
   "id": "signed-break",
   "metadata": {
    "slideshow": {
     "slide_type": "slide"
    }
   },
   "source": [
    "# Matemática Discreta\n",
    "\n",
    "## Definição\n",
    "A **Matemática Discreta** manipula objetos **contáveis** utilizando\n",
    "  sistemas matemáticos adequados para cada tipo de problema. \n",
    "  Exemplo: números inteiros.\n",
    "  \n",
    "Algumas aplicações da Matemática Discreta\n",
    "\n",
    "- Métodos formais para especificação, verificação e validação de\n",
    "    software;\n",
    "- Análise da complexidade dos algoritmos;\n",
    "- Algoritmos combinatórios: grafos, expressões booleanas, $\\dots$;\n",
    "- Probablidade;\n",
    "- Computabilidade;\n",
    "- Cálculo numérico;\n",
    "- Criptografia\n",
    "- $\\dots$"
   ]
  },
  {
   "cell_type": "markdown",
   "id": "personal-salmon",
   "metadata": {
    "slideshow": {
     "slide_type": "slide"
    }
   },
   "source": [
    "## Alguns Sistemas Matemáticos Discretos\n",
    "\n",
    "- Lógica\n",
    "- Teoria dos Conjuntos\n",
    "- Teoria dos Números\n",
    "- Análise Combinatória\n",
    "- Teoria dos Grafos"
   ]
  },
  {
   "cell_type": "markdown",
   "id": "geological-quebec",
   "metadata": {
    "slideshow": {
     "slide_type": "slide"
    }
   },
   "source": [
    "## Noções de Lógica\n",
    "\n",
    "### Axioma ou Postulado\n",
    "\n",
    "*Axioma* é uma premissa ou ponto de partida para o raciocínio. \n",
    "É tão evidente que é aceito como verdadeiro sem controvérsia e sem necessidade \n",
    "de prova.\n",
    "\n",
    "Exemplo: Axioma de Peano para as propriedades dos números naturais.\n",
    "           \n",
    "1. $0 \\in Nat$\n",
    "2. $x=x$\n",
    "3. $x=y \\Rightarrow y=x$\n",
    "4. $x=y\\wedge y=z\\Rightarrow x=z$"
   ]
  },
  {
   "cell_type": "markdown",
   "id": "joined-spouse",
   "metadata": {
    "slideshow": {
     "slide_type": "subslide"
    }
   },
   "source": [
    "### Teorema\n",
    "\n",
    "**Teorema** é uma afirmação cuja veracidade pode ser demonstrada \n",
    "utilizando operações e argumentos matemáticos aceitáveis."
   ]
  },
  {
   "cell_type": "code",
   "execution_count": 1,
   "id": "enormous-domain",
   "metadata": {
    "slideshow": {
     "slide_type": "subslide"
    }
   },
   "outputs": [
    {
     "data": {
      "image/png": "[encoded data removed]",
      "text/plain": [
       "<Figure size 432x288 with 1 Axes>"
      ]
     },
     "metadata": {
      "needs_background": "light"
     },
     "output_type": "display_data"
    }
   ],
   "source": [
    "# OPCIONAL\n",
    "import matplotlib.pyplot as plt \n",
    "from matplotlib.patches import Polygon \n",
    "fig = plt.figure() \n",
    "ax = fig.add_subplot(111, aspect='equal')\n",
    "ax.spines['top'].set_visible(False)\n",
    "ax.spines['right'].set_visible(False)\n",
    "ax.add_patch(Polygon([[0,0],[0,4],[3,0]], closed=True,fill=True)) \n",
    "ax.set_xlim((0,3)) \n",
    "ax.set_ylim((0,4))\n",
    "ax.set_xlabel('a')\n",
    "ax.set_ylabel('b')\n",
    "plt.text(1.75,2,'c')\n",
    "plt.xticks([0,3])\n",
    "plt.yticks([0,4])\n",
    "plt.rcParams.update({'font.size': 14})\n",
    "plt.title('Exemplo:\\nTeorema de Pitágoras\\n$c^2=a^2+b^2$')\n",
    "plt.show()\n"
   ]
  },
  {
   "cell_type": "markdown",
   "id": "stylish-mambo",
   "metadata": {
    "slideshow": {
     "slide_type": "slide"
    }
   },
   "source": [
    "### Termos adicionais\n",
    "\n",
    "- **Definição** especifica o significado de palavra ou frase em utilizando\n",
    "  conceitos já conhecidos. Também é aceita sem prova.\n",
    "- **Proposição** é um termo genérico para um teorema sem importância particular. \n",
    "  Este termo denota um afirmação que exige um prova simples, enquanto *teorema* é \n",
    "  reservado para resultados de maior importância com prova difícil ou longa.\n",
    "- **Lema** é uma *proposição* que faz parte da prova de um teorema por possuir \n",
    "  pouca aplicabilidade.\n",
    "- **Corolário** é uma *proposição* que segue com pouca ou nenhuma prova, outra \n",
    "  definição ou teorema."
   ]
  },
  {
   "cell_type": "code",
   "execution_count": null,
   "id": "intelligent-pioneer",
   "metadata": {},
   "outputs": [],
   "source": []
  }
 ],
 "metadata": {
  "celltoolbar": "Slideshow",
  "kernelspec": {
   "display_name": "Python 3",
   "language": "python",
   "name": "python3"
  },
  "language_info": {
   "codemirror_mode": {
    "name": "ipython",
    "version": 3
   },
   "file_extension": ".py",
   "mimetype": "text/x-python",
   "name": "python",
   "nbconvert_exporter": "python",
   "pygments_lexer": "ipython3",
   "version": "3.8.5"
  }
 },
 "nbformat": 4,
 "nbformat_minor": 5
}
