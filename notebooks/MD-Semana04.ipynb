{
 "cells": [
  {
   "cell_type": "markdown",
   "id": "formed-mapping",
   "metadata": {
    "slideshow": {
     "slide_type": "slide"
    }
   },
   "source": [
    "# Relações"
   ]
  },
  {
   "cell_type": "markdown",
   "id": "empty-clothing",
   "metadata": {
    "slideshow": {
     "slide_type": "subslide"
    }
   },
   "source": [
    "**Alguns conjuntos importantes**\n",
    "\n",
    "$\\mathbb{B}$ = valores Boolean = $\\{true, false\\}$\n",
    "\n",
    "$\\mathbb{N}$ = números naturais = {0, 1, 2, 3, . . . }\n",
    "\n",
    "$\\mathbb{Z}$ = inteiros = {. . . , −3, −2, −1, 0, 1, 2, 3, . . . }\n",
    "\n",
    "$\\mathbb{Z}^+$ = $\\mathbb{Z}_{≥1}$ = inteiros positivos = {1, 2, 3, . . . }\n",
    "\n",
    "$\\mathbb{R}$ = conjunto dos números reais\n",
    "\n",
    "$\\mathbb{R}^+$ = $\\mathbb{R}_{>0}$ = conjunto dos números reais positivos\n",
    "\n",
    "$\\mathbb{C}$ = conjunto dos números complexos\n",
    "\n",
    "$\\mathbb{Q}$ = conjunto dos números racionais"
   ]
  },
  {
   "cell_type": "markdown",
   "id": "trying-aaron",
   "metadata": {
    "slideshow": {
     "slide_type": "subslide"
    }
   },
   "source": [
    "## Definição\n",
    "\n",
    "Sejam $A$ e $B$ conjuntos. Uma **relação** $R$ de $A$ em $B$ é um subconjunto de produto cartesiano $A\\times B$,\n",
    "ou seja:\n",
    "\n",
    "$$R=A\\subseteq B$$\n",
    "\n",
    "sendo que:\n",
    "\n",
    "$A$ é denominado *domínio* de $R$ e\n",
    "\n",
    "$B$ *contradomínio* de $R$."
   ]
  },
  {
   "cell_type": "markdown",
   "id": "opposed-links",
   "metadata": {
    "slideshow": {
     "slide_type": "fragment"
    }
   },
   "source": [
    "Uma **relação** $R\\subseteq A \\times B$ também é denotada como\n",
    "\n",
    "$$R: A\\rightarrow B$$\n",
    "\n",
    "e um elemento $(a,b)\\in R$ é frequentemente denotado de forma infixada como\n",
    "\n",
    "$$a\\ R\\ b$$"
   ]
  },
  {
   "cell_type": "markdown",
   "id": "internal-intensity",
   "metadata": {
    "slideshow": {
     "slide_type": "subslide"
    }
   },
   "source": [
    "### Exemplo\n",
    "\n",
    "Sejam $A=\\{a\\}$, $B=\\{a,b\\}$ e $C={0,1,2}$. Então são relações:"
   ]
  },
  {
   "cell_type": "markdown",
   "id": "blessed-parade",
   "metadata": {
    "slideshow": {
     "slide_type": "fragment"
    }
   },
   "source": [
    "1) $\\emptyset$ é uma **relação** de $A$ em $B$, $A$ em $C$ e $B$ em $C$;"
   ]
  },
  {
   "cell_type": "markdown",
   "id": "equivalent-occasion",
   "metadata": {
    "slideshow": {
     "slide_type": "fragment"
    }
   },
   "source": [
    "2) $A\\times B=\\{(a,a), (a,b)\\}$ é uma **relação** com origem em $A$ e destino em $B$;"
   ]
  },
  {
   "cell_type": "markdown",
   "id": "liable-implement",
   "metadata": {
    "slideshow": {
     "slide_type": "fragment"
    }
   },
   "source": [
    "3) Considerando o domínio $A$ e o contradomínio $B$, a **relação** de *igualdade* é $\\{(a,a)\\}$;"
   ]
  },
  {
   "cell_type": "markdown",
   "id": "interesting-infrared",
   "metadata": {
    "slideshow": {
     "slide_type": "fragment"
    }
   },
   "source": [
    "4) $\\{(0,1),(0,2),(1,2)\\}$ é a **relação** \"*menor que*\" ($<$) de $C$ em $C$;"
   ]
  },
  {
   "cell_type": "markdown",
   "id": "acute-military",
   "metadata": {
    "slideshow": {
     "slide_type": "fragment"
    }
   },
   "source": [
    "5) $\\{(0,a),(1,b)\\}$ é uma **relação** de $C$ em $B$."
   ]
  },
  {
   "cell_type": "markdown",
   "id": "knowing-attachment",
   "metadata": {
    "slideshow": {
     "slide_type": "subslide"
    }
   },
   "source": [
    "## Domínio de definição, conjunto imagem"
   ]
  },
  {
   "cell_type": "markdown",
   "id": "changed-junior",
   "metadata": {
    "slideshow": {
     "slide_type": "fragment"
    }
   },
   "source": [
    "### Definição\n",
    "\n",
    "Seja $R: A\\rightarrow B$ uma **relação**. Então:\n",
    "\n",
    "1) Se $(a,b)\\in R$, então afirma-se que $R$ está *definida* para $A$, e que \n",
    "$b$ é a imagem de $a$;"
   ]
  },
  {
   "cell_type": "markdown",
   "id": "threaded-explanation",
   "metadata": {
    "slideshow": {
     "slide_type": "fragment"
    }
   },
   "source": [
    "2) O conjunto de todos os elementos de $A$ para o qual $R$ está definida é denomindo *domínio de definição*;"
   ]
  },
  {
   "cell_type": "markdown",
   "id": "fantastic-arctic",
   "metadata": {
    "slideshow": {
     "slide_type": "fragment"
    }
   },
   "source": [
    "3) O conjunto de todos os elementos de $B$, imagem de $R$, é denomindo *conjunto imagem*."
   ]
  },
  {
   "cell_type": "markdown",
   "id": "foreign-official",
   "metadata": {
    "slideshow": {
     "slide_type": "subslide"
    }
   },
   "source": [
    "**Exemplo**\n",
    "\n",
    "Sejam $A=\\{a\\}$, $B=\\{a,b\\}$ e $C={0,1,2}$, então:"
   ]
  },
  {
   "cell_type": "markdown",
   "id": "potential-listing",
   "metadata": {
    "slideshow": {
     "slide_type": "fragment"
    }
   },
   "source": [
    "1) Para a **relação** $\\emptyset$: $A\\rightarrow b$, o domínio de definição e o conjunto imagem são *vazios*; "
   ]
  },
  {
   "cell_type": "markdown",
   "id": "cubic-tuition",
   "metadata": {
    "slideshow": {
     "slide_type": "fragment"
    }
   },
   "source": [
    "2) Para a endorrelação$^*$ (C,<), definida por $\\{(0,1),(0,2),(1,2)\\}$, o domínio de definição é $\\{0,1\\}$\n",
    "e a imagem é $\\{1,2\\}$;\n",
    "---\n",
    "$^*$ Endorrelação ou autorrelação é uma relação $R:A\\rightarrow A$ (origem e destino no mesmo conjunto)."
   ]
  },
  {
   "cell_type": "markdown",
   "id": "suspended-acrylic",
   "metadata": {
    "slideshow": {
     "slide_type": "fragment"
    }
   },
   "source": [
    "3) Para a relação $=: A\\rightarrow B$, o conjunto {A} é o domínio de definição e o cojunto imagem."
   ]
  },
  {
   "cell_type": "markdown",
   "id": "aboriginal-spain",
   "metadata": {
    "slideshow": {
     "slide_type": "subslide"
    }
   },
   "source": [
    "**Exemplo - Banco de Dados Relacional***\n",
    "\n",
    "Sejam o conjunto de países \n",
    "$$P=\\{\\text{\"Brasil\"},\\text{\"Turquia\"},\\text{\"Alemanha\"}, \\text{\"Coreia do Sul\"},\\text{\"Austrália\"}\\}$$\n",
    "e o conjunto de continentes \n",
    "$$C=\\{\\text{\"América\"},\\text{\"Oceania\"}, \\text{\"África\"},\\text{\"Ásia\"}, \\text{\"Europa\"}\\}$$. \n",
    "\n",
    "A **relação** $R=\\{(x,y)\\in P\\times C\\ |\\ x\\text{ localiza-se em }y\\}$ resultaria\n",
    "\n",
    " $$R=\\{(\\text{\"Brasil\"},\\text{\"América\"}),(\\text{\"Turquia\"},\\text{\"Europa\"}),$$          $$(\\text{\"Turquia\"},\\text{\"Ásia\"}),(\\text{\"Alemanha\"},\\text{\"Europa\"}),$$\n",
    " $$(\\text{\"Coreia do Sul\"},\\text{\"Ásia\"}),\\text{Austrália},\\text{\"Oceania\"})\\}$$"
   ]
  },
  {
   "cell_type": "markdown",
   "id": "unnecessary-import",
   "metadata": {
    "slideshow": {
     "slide_type": "subslide"
    }
   },
   "source": [
    "$$R=\\{(\\text{\"Brasil\"},\\text{\"América\"}),(\\text{\"Turquia\"},\\text{\"Europa\"}),$$          $$(\\text{\"Turquia\"},\\text{\"Ásia\"}),(\\text{\"Alemanha\"},\\text{\"Europa\"}),$$\n",
    " $$(\\text{\"Coreia do Sul\"},\\text{\"Ásia\"}),\\text{Austrália},\\text{\"Oceania\"})\\}$$\n",
    " \n",
    "| País | Continente |\n",
    "|:---|:---:|\n",
    "| \"Brasil\" | \"América\" |\n",
    "| \"Turquia\" | \"Europa\" |\n",
    "| \"Turquia\" | \"Ásia\" |\n",
    "| \"Alemanha\" | \"Europa\" |\n",
    "| \"Coreia do Sul\" | \"Ásia\" |\n",
    "| \"Austrália\" | \"Oceania\" |"
   ]
  },
  {
   "cell_type": "markdown",
   "id": "fiscal-mention",
   "metadata": {
    "slideshow": {
     "slide_type": "subslide"
    }
   },
   "source": [
    "## Relação Inversa\n",
    "\n",
    "Seja $R$ uma relação. A **inversa** de $R$, denotada por $R^{-1}$, é a **relação** formada invertendo-se todos os pares ordenados em $R$, e sua fórmula é \n",
    "\n",
    "$$R^{-1}=\\{(x,y)\\ :\\ (y,x)\\in R\\}$$"
   ]
  },
  {
   "cell_type": "markdown",
   "id": "several-service",
   "metadata": {
    "slideshow": {
     "slide_type": "fragment"
    }
   },
   "source": [
    "**Exemplo**\n",
    "\n",
    "Seja\n",
    "\n",
    "$$R=\\{(1,5),(2,6),(3,7),(3,8)\\}$$\n",
    "\n",
    "então,\n",
    "\n",
    "$$R^{-1}=\\{(5,1),(6,2),(7,3),(8,3)\\}$$"
   ]
  },
  {
   "cell_type": "markdown",
   "id": "green-parking",
   "metadata": {
    "slideshow": {
     "slide_type": "skip"
    }
   },
   "source": [
    "## Exercícios\n",
    "\n",
    "1. Sejam $A=\\{2,3,4,5\\}$ e $B=\\{3,4,5,6,10\\}$, para cada uma das seguintes **relações**:\n",
    "    \n",
    "a) $R_1=\\{(x,y)\\in A\\times B \\ :\\ x|y\\}$\n",
    "\n",
    "b) $R_2=\\{(x,y)\\in A\\times B \\ :\\ x=y+1\\}$\n",
    "\n",
    "c) $R_3=\\{(x,y)\\in A\\times B \\ :\\ xy=12\\}$\n",
    "\n",
    "d) $R_4=\\{(x,y)\\in A\\times B \\ :\\ x\\geq y\\}$\n",
    "\n",
    "- explicite as tuplas da **relação**;\n",
    "- faça um representação gráfica no plano cartesiano;\n",
    "- determine o domínio de definição;\n",
    "- determine o conjunto imagem.\n",
    "\n",
    "2. [Scheinerman] Determine $R^{-1}$ para cada uma das seguintes relações:\n",
    "\n",
    "a) $R_1=\\{(1,2),(2,3),(3,4)\\}$\n",
    "\n",
    "b) $R_2=\\{(1,1),(2,2),(3,3)\\}$\n",
    "\n",
    "c) $R_3=\\{(x,y)\\ :\\ x,y \\in \\mathbb{Z}, x-y=1\\}$\n",
    "\n",
    "d) $R_4=\\{(x,y)\\ :\\ x,y \\in \\mathbb{N}, x|y\\}$\n",
    "\n",
    "e) $R_5=\\{(x,y)\\ :\\ x,y \\in \\mathbb{Z}, xy>0\\}$\n",
    "\n",
    "---\n",
    "\n",
    "* $x|y$ significa que $x$ é divisível por $y$.\n",
    "\n"
   ]
  },
  {
   "cell_type": "markdown",
   "id": "departmental-intelligence",
   "metadata": {
    "slideshow": {
     "slide_type": "skip"
    }
   },
   "source": []
  },
  {
   "cell_type": "markdown",
   "id": "known-consciousness",
   "metadata": {
    "slideshow": {
     "slide_type": "skip"
    }
   },
   "source": [
    "## Bibliografia\n",
    "\n",
    "- Edward R. Scheinerman. [\"Matemática discreta: Uma introdução\"](https://www.amazon.com.br/Matem%C3%A1tica-discreta-introdu%C3%A7%C3%A3o-Edward-Scheinerman/dp/8522125341/), 2<sup>a.</sup> edição. Cengage Learning, 2011.\n",
    "- Paulo Blauth Menezes. [\"Matematica Discreta para Computação e Informática\"](https://www.amazon.com.br/Matem%C3%A1tica-Discreta-para-Computa%C3%A7%C3%A3o-Inform%C3%A1tica/dp/8582600240), 3<sup>a.</sup> edição. \n",
    "Editora Bookman, 2010."
   ]
  }
 ],
 "metadata": {
  "celltoolbar": "Slideshow",
  "kernelspec": {
   "display_name": "Python 3",
   "language": "python",
   "name": "python3"
  },
  "language_info": {
   "codemirror_mode": {
    "name": "ipython",
    "version": 3
   },
   "file_extension": ".py",
   "mimetype": "text/x-python",
   "name": "python",
   "nbconvert_exporter": "python",
   "pygments_lexer": "ipython3",
   "version": "3.8.5"
  }
 },
 "nbformat": 4,
 "nbformat_minor": 5
}
