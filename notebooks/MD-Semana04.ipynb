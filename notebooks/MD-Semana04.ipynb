{
 "cells": [
  {
   "cell_type": "markdown",
   "id": "outdoor-karaoke",
   "metadata": {
    "slideshow": {
     "slide_type": "slide"
    }
   },
   "source": [
    "# Relações"
   ]
  },
  {
   "cell_type": "markdown",
   "id": "objective-escape",
   "metadata": {
    "slideshow": {
     "slide_type": "subslide"
    }
   },
   "source": [
    "## Definição\n",
    "\n",
    "Sejam $A$ e $B$ conjuntos. Uma **relação** $R$ de $A$ em $B$ é um subconjunto de produto cartesiano $A\\times B$,\n",
    "ou seja:\n",
    "\n",
    "$$R=A\\subseteq B$$\n",
    "\n",
    "sendo que:\n",
    "\n",
    "$A$ é denominado *domínio* de $R$ e\n",
    "\n",
    "$B$ *contradomínio* de $R$."
   ]
  },
  {
   "cell_type": "markdown",
   "id": "neural-letters",
   "metadata": {
    "slideshow": {
     "slide_type": "fragment"
    }
   },
   "source": [
    "Uma **relação** $R\\subseteq A \\times B$ também é denotada como\n",
    "\n",
    "$$R: A\\rightarrow B$$\n",
    "\n",
    "e um elemento $(a,b)\\in R$ é frequentemente denotado de forma infixada como\n",
    "\n",
    "$$a\\ R\\ b$$"
   ]
  },
  {
   "cell_type": "markdown",
   "id": "cultural-perception",
   "metadata": {
    "slideshow": {
     "slide_type": "subslide"
    }
   },
   "source": [
    "### Exemplo\n",
    "\n",
    "Sejam $A=\\{a\\}$, $B=\\{a,b\\}$ e $C={0,1,2}$. Então são relações:"
   ]
  },
  {
   "cell_type": "markdown",
   "id": "contemporary-cream",
   "metadata": {
    "slideshow": {
     "slide_type": "fragment"
    }
   },
   "source": [
    "1) $\\emptyset$ é uma **relação** de $A$ em $B$, $A$ em $C$ e $B$ em $C$;"
   ]
  },
  {
   "cell_type": "markdown",
   "id": "closing-reward",
   "metadata": {
    "slideshow": {
     "slide_type": "fragment"
    }
   },
   "source": [
    "2) $A\\times B=\\{(a,a), (a,b)\\}$ é uma **relação** com origem em $A$ e destino em $B$;"
   ]
  },
  {
   "cell_type": "markdown",
   "id": "found-michigan",
   "metadata": {
    "slideshow": {
     "slide_type": "fragment"
    }
   },
   "source": [
    "3) Considerando o domínio $A$ e o contradomínio $B$, a **relação** de *igualdade* é $\\{(a,a)\\}$;"
   ]
  },
  {
   "cell_type": "markdown",
   "id": "primary-holmes",
   "metadata": {
    "slideshow": {
     "slide_type": "fragment"
    }
   },
   "source": [
    "4) $\\{(0,1),(0,2),(1,2)\\}$ é a **relação** \"*menor que*\" ($<$) de $C$ em $C$;"
   ]
  },
  {
   "cell_type": "markdown",
   "id": "rough-recipe",
   "metadata": {
    "slideshow": {
     "slide_type": "fragment"
    }
   },
   "source": [
    "5) $\\{(0,a),(1,b)\\}$ é uma **relação** de $C$ em $B$."
   ]
  },
  {
   "cell_type": "markdown",
   "id": "selective-works",
   "metadata": {
    "slideshow": {
     "slide_type": "subslide"
    }
   },
   "source": [
    "## Domínio de definição, conjunto imagem"
   ]
  },
  {
   "cell_type": "markdown",
   "id": "national-kitty",
   "metadata": {
    "slideshow": {
     "slide_type": "fragment"
    }
   },
   "source": [
    "### Definição\n",
    "\n",
    "Seja $R: A\\rightarrow B$ uma **relação**. Então:\n",
    "\n",
    "1) Se $(a,b)\\in R$, então afirma-se que $R$ está *definida* para $A$, e que \n",
    "$b$ é a imagem de $a$;"
   ]
  },
  {
   "cell_type": "markdown",
   "id": "enclosed-content",
   "metadata": {
    "slideshow": {
     "slide_type": "fragment"
    }
   },
   "source": [
    "2) O conjunto de todos os elementos de $A$ para o qual $R$ está definida é denomindo *domínio de definição*;"
   ]
  },
  {
   "cell_type": "markdown",
   "id": "healthy-blogger",
   "metadata": {
    "slideshow": {
     "slide_type": "fragment"
    }
   },
   "source": [
    "3) O conjunto de todos os elementos de $B$, imagem de $R$, é denomindo *conjunto imagem*."
   ]
  },
  {
   "cell_type": "markdown",
   "id": "varied-merchant",
   "metadata": {
    "slideshow": {
     "slide_type": "subslide"
    }
   },
   "source": [
    "**Exemplo**\n",
    "\n",
    "Sejam $A=\\{a\\}$, $B=\\{a,b\\}$ e $C={0,1,2}$, então:"
   ]
  },
  {
   "cell_type": "markdown",
   "id": "beginning-petroleum",
   "metadata": {
    "slideshow": {
     "slide_type": "fragment"
    }
   },
   "source": [
    "1) Para a **relação** $\\emptyset$: $A\\rightarrow b$, o domínio de definição e o conjunto imagem são *vazios*; "
   ]
  },
  {
   "cell_type": "markdown",
   "id": "conceptual-alexandria",
   "metadata": {
    "slideshow": {
     "slide_type": "fragment"
    }
   },
   "source": [
    "2) Para a endorrelação$^*$ (C,<), definida por $\\{(0,1),(0,2),(1,2)\\}$, o domínio de definição é $\\{0,1\\}$\n",
    "e a imagem é $\\{1,2\\}$;\n",
    "---\n",
    "$^*$ Endorrelação ou autorrelação é uma relação $R:A\\rightarrow A$ (origem e destino no mesmo conjunto)."
   ]
  },
  {
   "cell_type": "markdown",
   "id": "prepared-sitting",
   "metadata": {
    "slideshow": {
     "slide_type": "fragment"
    }
   },
   "source": [
    "3) Para a relação $=: A\\rightarrow B$, o conjunto {A} é o domínio de definição e o cojunto imagem."
   ]
  },
  {
   "cell_type": "markdown",
   "id": "civic-document",
   "metadata": {
    "slideshow": {
     "slide_type": "subslide"
    }
   },
   "source": [
    "**Exemplo - Banco de Dados Relacional***\n",
    "\n",
    "Sejam o conjunto de países \n",
    "$$P=\\{\\text{\"Brasil\"},\\text{\"Turquia\"},\\text{\"Alemanha\"}, \\text{\"Coreia do Sul\"},\\text{\"Austrália\"}\\}$$\n",
    "e o conjunto de continentes \n",
    "$$C=\\{\\text{\"América\"},\\text{\"Oceania\"}, \\text{\"África\"},\\text{\"Ásia\"}, \\text{\"Europa\"}\\}$$. \n",
    "\n",
    "A **relação** $R=\\{(x,y)\\in P\\times C\\ |\\ x\\text{ localiza-se em }y\\}$ resultaria\n",
    "\n",
    " $$R=\\{(\\text{\"Brasil\"},\\text{\"América\"}),(\\text{\"Turquia\"},\\text{\"Europa\"}),$$          $$(\\text{\"Turquia\"},\\text{\"Ásia\"}),(\\text{\"Alemanha\"},\\text{\"Europa\"}),$$\n",
    " $$(\\text{\"Coreia do Sul\"},\\text{\"Ásia\"}),\\text{Austrália},\\text{\"Oceania\"})\\}$$"
   ]
  },
  {
   "cell_type": "markdown",
   "id": "dying-allergy",
   "metadata": {
    "slideshow": {
     "slide_type": "subslide"
    }
   },
   "source": [
    "$$R=\\{(\\text{\"Brasil\"},\\text{\"América\"}),(\\text{\"Turquia\"},\\text{\"Europa\"}),$$          $$(\\text{\"Turquia\"},\\text{\"Ásia\"}),(\\text{\"Alemanha\"},\\text{\"Europa\"}),$$\n",
    " $$(\\text{\"Coreia do Sul\"},\\text{\"Ásia\"}),\\text{Austrália},\\text{\"Oceania\"})\\}$$\n",
    " \n",
    "| País | Continente |\n",
    "|:---|:---:|\n",
    "| \"Brasil\" | \"América\" |\n",
    "| \"Turquia\" | \"Europa\" |\n",
    "| \"Turquia\" | \"Ásia\" |\n",
    "| \"Alemanha\" | \"Europa\" |\n",
    "| \"Coreia do Sul\" | \"Ásia\" |\n",
    "| \"Austrália\" | \"Oceania\" |"
   ]
  },
  {
   "cell_type": "markdown",
   "id": "collaborative-lightweight",
   "metadata": {
    "slideshow": {
     "slide_type": "skip"
    }
   },
   "source": [
    "## Exercícios\n",
    "\n",
    "1. Sejam $A=\\{2,3,4,5\\}$ e $B=\\{3,4,5,6,10\\}$, para cada uma das seguintes **relações**:\n",
    "    \n",
    "a) $R_1=\\{(x,y)\\in A\\times B \\ |\\ x\\ \\text{é divisivel por }y\\}$\n",
    "\n",
    "b) $R_2=\\{(x,y)\\in A\\times B \\ |\\ x=y+1\\}$\n",
    "\n",
    "c) $R_3=\\{(x,y)\\in A\\times B \\ |\\ x.y=12\\}$\n",
    "\n",
    "d) $R_4=\\{(x,y)\\in A\\times B \\ |\\ x\\geq y\\}$\n",
    "\n",
    "- explicite as tuplas da **relação**;\n",
    "- faça um representação gráfica no plano cartesiano;\n",
    "- determine o domínio de definição;\n",
    "- determine o conjunto imagem."
   ]
  },
  {
   "cell_type": "markdown",
   "id": "worse-bobby",
   "metadata": {
    "slideshow": {
     "slide_type": "skip"
    }
   },
   "source": [
    "## Bibliografia\n",
    "\n",
    "- Paulo Blauth Menezes. [\"Matematica Discreta para Computação e Informática\"](https://www.amazon.com.br/Matem%C3%A1tica-Discreta-para-Computa%C3%A7%C3%A3o-Inform%C3%A1tica/dp/8582600240). \n",
    "Editora Bookman, 2010, 3<sup>a.</sup> edição."
   ]
  }
 ],
 "metadata": {
  "celltoolbar": "Slideshow",
  "kernelspec": {
   "display_name": "Python 3",
   "language": "python",
   "name": "python3"
  },
  "language_info": {
   "codemirror_mode": {
    "name": "ipython",
    "version": 3
   },
   "file_extension": ".py",
   "mimetype": "text/x-python",
   "name": "python",
   "nbconvert_exporter": "python",
   "pygments_lexer": "ipython3",
   "version": "3.8.5"
  }
 },
 "nbformat": 4,
 "nbformat_minor": 5
}
