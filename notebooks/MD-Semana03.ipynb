{
 "cells": [
  {
   "cell_type": "markdown",
   "id": "vanilla-burner",
   "metadata": {
    "slideshow": {
     "slide_type": "slide"
    }
   },
   "source": [
    "# Fundamentos de Lógica"
   ]
  },
  {
   "cell_type": "markdown",
   "id": "capital-tenant",
   "metadata": {
    "slideshow": {
     "slide_type": "slide"
    }
   },
   "source": [
    "## Lógica Proposicional\n",
    "\n",
    "É a matemática de $2$ (dois) valores Booleanos, `VERDADEIRO` (`TRUE`, `T`, `1`) e `FALSO` (`FALSE`, `F`, `0`), \n",
    "e $5$ (cinco) operadores."
   ]
  },
  {
   "cell_type": "markdown",
   "id": "seasonal-karma",
   "metadata": {
    "slideshow": {
     "slide_type": "subslide"
    }
   },
   "source": [
    "### Operadores da Lógica Proposicional\n",
    "\n",
    "|   | operador   | nome         | programação |\n",
    "|---|:----------:|:------------:|:-----------:|\n",
    "| 1 | $\\land$    | conjunção    | `AND`, `&&` |\n",
    "| 2 | $\\lor$     | disjunção    | `OR`, `\\|\\|`  |\n",
    "| 3 | $\\lnot$    | negação      | `NOT`, `!`  |\n",
    "| 4 | $\\implies$ | implicação   |             |\n",
    "| 5 | $\\equiv$   | equivalência |  `==`       |"
   ]
  },
  {
   "cell_type": "markdown",
   "id": "skilled-guest",
   "metadata": {
    "slideshow": {
     "slide_type": "subslide"
    }
   },
   "source": [
    "**Lógica Proposicional: Exemplos**\n",
    "\n",
    "1. $x \\land y$ é `VERDADEIRO` se $x$ e $y$ forem `VERDADEIRO`;\n",
    "2. $x \\lor y$ é `VERDADEIRO` se $x$ ou $y$ forem `VERDADEIRO` (ou ambos);\n",
    "3. $\\lnot x$ é `VERDADEIRO` se $x$ for `FALSO`;\n",
    "4. $x \\implies y$ é `VERDADEIRO` se $x$ for `FALSO` e $y$ for `VERDADEIRO` (ou ambos);\n",
    "5. $x\\equiv y$ é `VERDADEIRO` se $x$ e $y$ forem `VERDADEIRO` ou ambos forem `FALSO`."
   ]
  },
  {
   "cell_type": "markdown",
   "id": "extended-chaos",
   "metadata": {
    "slideshow": {
     "slide_type": "subslide"
    }
   },
   "source": [
    "**Lógica Proposicional: Tabela-Verdade**\n",
    "\n",
    "\n",
    "  $x$   |  $y$  |    |    | $\\land$ | $\\lor$  | \n",
    " ------ | ----- | -- | -- | ------- | ------  | \n",
    " *`F`*  |  *`F`*  |    |    | `F`     |  `F`    |  \n",
    " *`F`*  |  *`T`*  |    |    | `F`     |  `T`    |  \n",
    " *`T`*  |  *`F`*  |    |    | `F`     |  `T`    |  \n",
    " *`T`*  |  *`T`*  |    |    | `T`     |  `T`    | "
   ]
  },
  {
   "cell_type": "markdown",
   "id": "challenging-harmony",
   "metadata": {
    "slideshow": {
     "slide_type": "fragment"
    }
   },
   "source": [
    "|  $x$   |  $y$  |    |    | $\\Rightarrow$   | $\\equiv$ |\n",
    "| ------ | ----- | -- | -- | ------------ | -------- |\n",
    "| *`F`*  |  *`F`*  |    |    |  `T`         |    `T`   |\n",
    "| *`F`*  |  *`T`*  |    |    |  `T`         |    `F`   |\n",
    "| *`T`*  |  *`F`*  |    |    |  `F`         |    `F`   |\n",
    "| *`T`*  |  *`T`*  |    |    |  `T`         |    `T`   |"
   ]
  },
  {
   "cell_type": "markdown",
   "id": "sized-russell",
   "metadata": {
    "slideshow": {
     "slide_type": "fragment"
    }
   },
   "source": [
    "$x$   | $\\lnot x$\n",
    ":---: | :---:\n",
    "`F`   |  `T`      \n",
    "`T`   |  `F`     "
   ]
  },
  {
   "cell_type": "markdown",
   "id": "lesser-istanbul",
   "metadata": {
    "slideshow": {
     "slide_type": "subslide"
    }
   },
   "source": [
    "**Python3**"
   ]
  },
  {
   "cell_type": "code",
   "execution_count": 57,
   "id": "chief-lotus",
   "metadata": {
    "slideshow": {
     "slide_type": "subslide"
    }
   },
   "outputs": [
    {
     "data": {
      "text/plain": [
       "True"
      ]
     },
     "execution_count": 57,
     "metadata": {},
     "output_type": "execute_result"
    }
   ],
   "source": [
    "from sympy import *\n",
    "x = True\n",
    "y = True\n",
    "x and y"
   ]
  },
  {
   "cell_type": "code",
   "execution_count": 58,
   "id": "effective-roman",
   "metadata": {
    "slideshow": {
     "slide_type": "fragment"
    }
   },
   "outputs": [
    {
     "data": {
      "text/plain": [
       "True"
      ]
     },
     "execution_count": 58,
     "metadata": {},
     "output_type": "execute_result"
    }
   ],
   "source": [
    "x or y"
   ]
  },
  {
   "cell_type": "code",
   "execution_count": 59,
   "id": "chronic-translator",
   "metadata": {
    "slideshow": {
     "slide_type": "fragment"
    }
   },
   "outputs": [
    {
     "data": {
      "text/plain": [
       "False"
      ]
     },
     "execution_count": 59,
     "metadata": {},
     "output_type": "execute_result"
    }
   ],
   "source": [
    "not x"
   ]
  },
  {
   "cell_type": "code",
   "execution_count": 60,
   "id": "immune-virtue",
   "metadata": {
    "slideshow": {
     "slide_type": "fragment"
    }
   },
   "outputs": [
    {
     "data": {
      "text/latex": [
       "$\\displaystyle \\text{True}$"
      ],
      "text/plain": [
       "True"
      ]
     },
     "execution_count": 60,
     "metadata": {},
     "output_type": "execute_result"
    }
   ],
   "source": [
    "Implies(x, y)"
   ]
  },
  {
   "cell_type": "code",
   "execution_count": 61,
   "id": "clinical-alcohol",
   "metadata": {
    "slideshow": {
     "slide_type": "fragment"
    }
   },
   "outputs": [
    {
     "data": {
      "text/plain": [
       "True"
      ]
     },
     "execution_count": 61,
     "metadata": {},
     "output_type": "execute_result"
    }
   ],
   "source": [
    "x == y"
   ]
  },
  {
   "cell_type": "markdown",
   "id": "official-shield",
   "metadata": {
    "slideshow": {
     "slide_type": "slide"
    }
   },
   "source": [
    "## Lógica de Predicados (lógica de primeira ordem)\n",
    "\n",
    "A Lógica de Predicados estende a Lógica Proposicional com a adição de operadores\n",
    "que trabalham com conjuntos de elementos.\n",
    "\n",
    "**Operadores**\n",
    "\n",
    "| operador |  operação |\n",
    "|:--:|:--:|\n",
    "| $\\forall$ | quantificação universal (para todo) |\n",
    "| $\\exists$ | quantificação existencial (existe) |"
   ]
  },
  {
   "cell_type": "markdown",
   "id": "abandoned-comfort",
   "metadata": {
    "slideshow": {
     "slide_type": "subslide"
    }
   },
   "source": [
    "**Exemplos**\n",
    "\n",
    "$(\\forall\\ x \\in R : S)$  - para todo $x$ em $R$, a fórmula $S$ é `VERDADEIRA`;\n",
    "\n",
    "$(\\exists \\ x \\in R : S)$ - existe $x$ em R, em que a fórmula $S$ é `VERDADEIRA`.\n",
    "\n",
    "\n",
    "$\\forall\\ x \\in \\{2, 3, 4, 5\\} : x > 1$\n",
    "\n",
    "$\\exists\\ x \\in \\{2, 3, 4, 5\\} : x > 2$\n"
   ]
  },
  {
   "cell_type": "markdown",
   "id": "identical-librarian",
   "metadata": {
    "slideshow": {
     "slide_type": "fragment"
    }
   },
   "source": [
    "$\\forall\\ x \\in N : x\\ mod\\ 2 = 0$ (é par?) `F`\n",
    "\n",
    "$\\exists\\ x \\in N : x\\ mod\\ 2 = 0$ (é par?) `V`\n",
    "\n",
    "$\\exists\\ x \\in N : \\sqrt{x} = 2$ (é par?) `V`"
   ]
  }
 ],
 "metadata": {
  "celltoolbar": "Slideshow",
  "kernelspec": {
   "display_name": "Python 3",
   "language": "python",
   "name": "python3"
  },
  "language_info": {
   "codemirror_mode": {
    "name": "ipython",
    "version": 3
   },
   "file_extension": ".py",
   "mimetype": "text/x-python",
   "name": "python",
   "nbconvert_exporter": "python",
   "pygments_lexer": "ipython3",
   "version": "3.8.5"
  }
 },
 "nbformat": 4,
 "nbformat_minor": 5
}
