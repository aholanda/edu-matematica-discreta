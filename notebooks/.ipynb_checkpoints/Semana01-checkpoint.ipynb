{
 "cells": [
  {
   "cell_type": "markdown",
   "id": "black-library",
   "metadata": {},
   "source": [
    "# Matemática Discreta\n",
    "\n",
    "## Definição\n",
    "A **Matemática Discreta** manipula objetos **contáveis** utilizando\n",
    "  sistemas matemáticos adequados para cada tipo de problema. \n",
    "  Exemplo: números inteiros.\n",
    "  \n",
    "Algumas aplicações da Matemática Discreta\n",
    "\n",
    "- Métodos formais para especificação, verificação e validação de\n",
    "    software;\n",
    "- Análise da complexidade dos algoritmos;\n",
    "- Algoritmos combinatórios: grafos, expressões booleanas, $\\dots$;\n",
    "- Probablidade;\n",
    "- Computabilidade;\n",
    "- Cálculo numérico;\n",
    "- Criptografia\n",
    "- $\\dots$"
   ]
  }
 ],
 "metadata": {
  "kernelspec": {
   "display_name": "Python 3",
   "language": "python",
   "name": "python3"
  },
  "language_info": {
   "codemirror_mode": {
    "name": "ipython",
    "version": 3
   },
   "file_extension": ".py",
   "mimetype": "text/x-python",
   "name": "python",
   "nbconvert_exporter": "python",
   "pygments_lexer": "ipython3",
   "version": "3.8.5"
  }
 },
 "nbformat": 4,
 "nbformat_minor": 5
}
