{
 "cells": [
  {
   "cell_type": "markdown",
   "id": "correct-section",
   "metadata": {
    "slideshow": {
     "slide_type": "slide"
    }
   },
   "source": [
    "# Teoria dos Conjuntos\n",
    "\n",
    "*Definição*: **Teoria dos conjuntos** é o ramo da matemática que estuda os conjuntos,\n",
    "que são coleções de objetos.\n",
    "\n",
    "## Características\n",
    "\n",
    "- É o sistema fundamental[<sup>1</sup>](#fn1) empregado na matemática atualmente;\n",
    "- A linguagem da teoria de conjuntos pode ser usada na definição de quase todos os objetos matemáticos.\n",
    "\n",
    "---\n",
    "<sup>1</sup><span id=\"fn1\"> A teoria de conjuntos em questão refere-se ao sistema ZFC, ou seja, o conjunto de axiomas de Zermelo-Fraenkel somados ao axioma da escolha.</span>"
   ]
  },
  {
   "cell_type": "markdown",
   "id": "architectural-saying",
   "metadata": {
    "slideshow": {
     "slide_type": "slide"
    }
   },
   "source": [
    "## Exemplos de Conjuntos\n",
    "    \n",
    "| Notação                    | Descrição                                                  |\n",
    "| :------------------------- | :--------------------------------------------------------- |\n",
    "| $\\{$\"aba\" $,$ \"carro$\"\\}$  | conjunto formado pelas *strings* \"aba\" e \"carro\"           |\n",
    "| $\\{1,2,3\\}$                | conjunto formado pelos números inteiros $1, 2, 3$          |\n",
    "| $N$                        | conjunto dos números **naturais** $0,1,2,\\dots$            |\n",
    "| $R$                        | conjunto dos números **reais**                             |\n",
    "| $\\emptyset$                | conjunto **vazio**, possui nenhum elemento                 |\n",
    "| $\\{x|x$ é par$\\}$          | conjunto dos números **pares**                             |\n",
    "| $\\{\\{1\\},2\\}$              | conjunto contendo número $2$ e o conjunto com o número $1$ |\n",
    "  "
   ]
  },
  {
   "cell_type": "markdown",
   "id": "smaller-waterproof",
   "metadata": {
    "slideshow": {
     "slide_type": "slide"
    }
   },
   "source": [
    "## Conceitos Básicos"
   ]
  },
  {
   "cell_type": "markdown",
   "id": "brave-jewelry",
   "metadata": {
    "slideshow": {
     "slide_type": "subslide"
    }
   },
   "source": [
    "### Tamanho de um Conjunto\n",
    "\n",
    "Dado um conjunto $A$, tamanho do conjunto $A$ é representado pela notação\n",
    "\n",
    "$$|A|.$$\n",
    "\n",
    "Examplo:\n",
    "\n",
    "$A=\\{2,4,5,7,8,11,13,15\\}$<br>\n",
    "$|A|=8$"
   ]
  },
  {
   "cell_type": "code",
   "execution_count": 36,
   "id": "joint-walnut",
   "metadata": {
    "slideshow": {
     "slide_type": "fragment"
    }
   },
   "outputs": [
    {
     "data": {
      "text/plain": [
       "8"
      ]
     },
     "execution_count": 36,
     "metadata": {},
     "output_type": "execute_result"
    }
   ],
   "source": [
    "𝐴 = {2,4,5,7,8,11,13,15}\n",
    "len(A)"
   ]
  },
  {
   "cell_type": "markdown",
   "id": "turkish-pottery",
   "metadata": {
    "slideshow": {
     "slide_type": "subslide"
    }
   },
   "source": [
    "### Relação de Pertinência\n",
    "\n",
    "$o \\in A$ - o objeto $o$ **pertence** ao conjunto $A$.\n",
    "\n",
    "Exemplo:\n",
    "\n",
    "O elemento $1$ **pertence** ao conjunto $\\{1,2,3\\}$, mas $4$ **não**."
   ]
  },
  {
   "cell_type": "code",
   "execution_count": 1,
   "id": "competent-million",
   "metadata": {
    "slideshow": {
     "slide_type": "fragment"
    }
   },
   "outputs": [
    {
     "data": {
      "text/plain": [
       "True"
      ]
     },
     "execution_count": 1,
     "metadata": {},
     "output_type": "execute_result"
    }
   ],
   "source": [
    "1 in {1,2,3}"
   ]
  },
  {
   "cell_type": "code",
   "execution_count": 2,
   "id": "first-giant",
   "metadata": {
    "slideshow": {
     "slide_type": "fragment"
    }
   },
   "outputs": [
    {
     "data": {
      "text/plain": [
       "False"
      ]
     },
     "execution_count": 2,
     "metadata": {},
     "output_type": "execute_result"
    }
   ],
   "source": [
    "4 in {1,2,3}"
   ]
  },
  {
   "cell_type": "markdown",
   "id": "advanced-tonight",
   "metadata": {
    "slideshow": {
     "slide_type": "subslide"
    }
   },
   "source": [
    "### Relação de Inclusão\n",
    "\n",
    "$A\\subseteq B$ - o conjunto $A$ **está contido** no conjunto $B$, ou seja, $A$ é formado por um **subconjunto** de $B$. \n",
    "\n",
    "Exemplo:\n",
    "\n",
    "$\\{1,2\\}$ é um **subconjunto** de $\\{1,2,3\\}$, mas $\\{3,4\\}$ **não**."
   ]
  },
  {
   "cell_type": "code",
   "execution_count": 12,
   "id": "theoretical-gateway",
   "metadata": {
    "slideshow": {
     "slide_type": "fragment"
    }
   },
   "outputs": [
    {
     "data": {
      "text/plain": [
       "True"
      ]
     },
     "execution_count": 12,
     "metadata": {},
     "output_type": "execute_result"
    }
   ],
   "source": [
    "{1,2} <= {1,2,3}"
   ]
  },
  {
   "cell_type": "code",
   "execution_count": 10,
   "id": "political-antigua",
   "metadata": {
    "slideshow": {
     "slide_type": "fragment"
    }
   },
   "outputs": [
    {
     "data": {
      "text/plain": [
       "True"
      ]
     },
     "execution_count": 10,
     "metadata": {},
     "output_type": "execute_result"
    }
   ],
   "source": [
    "{1,2}.issubset({1,2,3})"
   ]
  },
  {
   "cell_type": "code",
   "execution_count": 13,
   "id": "attractive-reference",
   "metadata": {
    "slideshow": {
     "slide_type": "fragment"
    }
   },
   "outputs": [
    {
     "data": {
      "text/plain": [
       "False"
      ]
     },
     "execution_count": 13,
     "metadata": {},
     "output_type": "execute_result"
    }
   ],
   "source": [
    "{3,4} <= {1,2,3}"
   ]
  },
  {
   "cell_type": "code",
   "execution_count": 14,
   "id": "three-resistance",
   "metadata": {
    "slideshow": {
     "slide_type": "fragment"
    }
   },
   "outputs": [
    {
     "data": {
      "text/plain": [
       "False"
      ]
     },
     "execution_count": 14,
     "metadata": {},
     "output_type": "execute_result"
    }
   ],
   "source": [
    "{3,4}.issubset({1,2,3})"
   ]
  },
  {
   "cell_type": "markdown",
   "id": "surprised-puzzle",
   "metadata": {
    "slideshow": {
     "slide_type": "subslide"
    }
   },
   "source": [
    "### Subconjunto\n",
    "\n",
    "Sejam os conjuntos $A$ e $B$. Dizemos que $A$ é um **subconjunto** de $B$, se e somente se, **todo** elemento de $A$ também for elemento de $B$. A notação $A\\subseteq B$ significa que $A$ é um **subconjunto** de $B$.\n",
    "  \n",
    "Exemplo:\n",
    "\n",
    "$A=\\{2,3,5\\}$, $B=\\{1,2,3,4,5,6\\}$ $\\Rightarrow$ $A \\subseteq B$\n"
   ]
  },
  {
   "cell_type": "code",
   "execution_count": 16,
   "id": "confidential-mining",
   "metadata": {
    "slideshow": {
     "slide_type": "fragment"
    }
   },
   "outputs": [
    {
     "data": {
      "text/plain": [
       "True"
      ]
     },
     "execution_count": 16,
     "metadata": {},
     "output_type": "execute_result"
    }
   ],
   "source": [
    "A = {2,3,5}\n",
    "B = {1,2,3,4,5,6}\n",
    "A <= B"
   ]
  },
  {
   "cell_type": "code",
   "execution_count": 17,
   "id": "developed-basis",
   "metadata": {
    "slideshow": {
     "slide_type": "fragment"
    }
   },
   "outputs": [
    {
     "data": {
      "text/plain": [
       "True"
      ]
     },
     "execution_count": 17,
     "metadata": {},
     "output_type": "execute_result"
    }
   ],
   "source": [
    "A.issubset(B)"
   ]
  },
  {
   "cell_type": "markdown",
   "id": "prompt-george",
   "metadata": {
    "slideshow": {
     "slide_type": "slide"
    }
   },
   "source": [
    "## Operações sobre Conjuntos"
   ]
  },
  {
   "cell_type": "markdown",
   "id": "cooked-newfoundland",
   "metadata": {
    "slideshow": {
     "slide_type": "subslide"
    }
   },
   "source": [
    "### União\n",
    "\n",
    "Dados dois conjuntos $A$ e $B$, a **união** $A$ com $B$ é definida por\n",
    "\n",
    "$$A\\cup B \\Rightarrow x | x \\in A \\vee x \\in B.$$\n",
    "\n",
    "Exemplo:\n",
    "\n",
    "$A=\\{1,3,7\\}$\n",
    "\n",
    "$B=\\{2,4\\}$\n",
    "\n",
    "$A\\cup B = \\{1,2,3,4,7\\}$"
   ]
  },
  {
   "cell_type": "code",
   "execution_count": 19,
   "id": "fresh-paragraph",
   "metadata": {
    "slideshow": {
     "slide_type": "fragment"
    }
   },
   "outputs": [
    {
     "data": {
      "text/plain": [
       "{1, 2, 3, 4, 7}"
      ]
     },
     "execution_count": 19,
     "metadata": {},
     "output_type": "execute_result"
    }
   ],
   "source": [
    "𝐴 = {1,3,7} \n",
    "𝐵 = {2,4}\n",
    "A | B"
   ]
  },
  {
   "cell_type": "code",
   "execution_count": 20,
   "id": "minus-aside",
   "metadata": {
    "slideshow": {
     "slide_type": "fragment"
    }
   },
   "outputs": [
    {
     "data": {
      "text/plain": [
       "{1, 2, 3, 4, 7}"
      ]
     },
     "execution_count": 20,
     "metadata": {},
     "output_type": "execute_result"
    }
   ],
   "source": [
    "A.union(B)"
   ]
  },
  {
   "cell_type": "markdown",
   "id": "appreciated-resistance",
   "metadata": {
    "slideshow": {
     "slide_type": "subslide"
    }
   },
   "source": [
    "### Intersecção\n",
    "\n",
    "Dados dois conjuntos $A$ e $B$, a **intersecção** $A$ com $B$ é definida por\n",
    "\n",
    "$$A\\cap B \\Rightarrow x | x \\in A \\land x \\in B.$$\n",
    "\n",
    "Exemplo:\n",
    "\n",
    "$A=\\{1,2,3,4,7\\}$\n",
    "\n",
    "$B=\\{2,4,5\\}$\n",
    "\n",
    "$A\\cap B = \\{2,5\\}$"
   ]
  },
  {
   "cell_type": "code",
   "execution_count": 22,
   "id": "mounted-works",
   "metadata": {
    "slideshow": {
     "slide_type": "fragment"
    }
   },
   "outputs": [
    {
     "data": {
      "text/plain": [
       "{2, 4}"
      ]
     },
     "execution_count": 22,
     "metadata": {},
     "output_type": "execute_result"
    }
   ],
   "source": [
    "𝐴={1,2,3,4,7} \n",
    "𝐵={2,4,5}\n",
    "A & B"
   ]
  },
  {
   "cell_type": "code",
   "execution_count": 23,
   "id": "electoral-password",
   "metadata": {
    "slideshow": {
     "slide_type": "fragment"
    }
   },
   "outputs": [
    {
     "data": {
      "text/plain": [
       "{2, 4}"
      ]
     },
     "execution_count": 23,
     "metadata": {},
     "output_type": "execute_result"
    }
   ],
   "source": [
    "A.intersection(B)"
   ]
  },
  {
   "cell_type": "markdown",
   "id": "powerful-killing",
   "metadata": {
    "slideshow": {
     "slide_type": "subslide"
    }
   },
   "source": [
    "### Diferença\n",
    "\n",
    "Dados dois conjuntos $A$ e $B$, a **diferença** de $A$ com $B$ é definida por\n",
    "\n",
    "$$A\\backslash B \\Rightarrow x | x \\in A \\land x \\notin B.$$\n",
    "\n",
    "Exemplo:\n",
    "\n",
    "$A=\\{1,2,3,4,7\\}$\n",
    "\n",
    "$B=\\{2,4,5\\}$\n",
    "\n",
    "$A\\backslash B = \\{1,3,7\\}$"
   ]
  },
  {
   "cell_type": "code",
   "execution_count": 24,
   "id": "animated-vancouver",
   "metadata": {
    "slideshow": {
     "slide_type": "fragment"
    }
   },
   "outputs": [
    {
     "data": {
      "text/plain": [
       "{1, 3, 7}"
      ]
     },
     "execution_count": 24,
     "metadata": {},
     "output_type": "execute_result"
    }
   ],
   "source": [
    "𝐴 = {1,2,3,4,7} \n",
    "𝐵 = {2,4,5}\n",
    "𝐴 - 𝐵"
   ]
  },
  {
   "cell_type": "code",
   "execution_count": 25,
   "id": "violent-diana",
   "metadata": {
    "slideshow": {
     "slide_type": "fragment"
    }
   },
   "outputs": [
    {
     "data": {
      "text/plain": [
       "{1, 3, 7}"
      ]
     },
     "execution_count": 25,
     "metadata": {},
     "output_type": "execute_result"
    }
   ],
   "source": [
    "A.difference(B)"
   ]
  },
  {
   "cell_type": "markdown",
   "id": "humanitarian-response",
   "metadata": {
    "slideshow": {
     "slide_type": "subslide"
    }
   },
   "source": [
    "### Diferença Simétrica\n",
    "\n",
    "Dados dois conjuntos $A$ e $B$, a **diferença simétrica** de $A$ com $B$ é definida por\n",
    "\n",
    "$$A\\Delta B \\Rightarrow (A \\cup B) \\backslash (A \\cap B).$$\n",
    "\n",
    "Exemplo:\n",
    "\n",
    "$A=\\{1,2,3,4,7\\}$\n",
    "\n",
    "$B=\\{2,4,5\\}$\n",
    "\n",
    "$A\\backslash B = \\{1,3,5,7\\}$"
   ]
  },
  {
   "cell_type": "code",
   "execution_count": 26,
   "id": "cardiac-exhibit",
   "metadata": {
    "slideshow": {
     "slide_type": "fragment"
    }
   },
   "outputs": [
    {
     "data": {
      "text/plain": [
       "{1, 3, 5, 7}"
      ]
     },
     "execution_count": 26,
     "metadata": {},
     "output_type": "execute_result"
    }
   ],
   "source": [
    "𝐴 = {1,2,3,4,7} \n",
    "𝐵 = {2,4,5}\n",
    "𝐴 ^ 𝐵"
   ]
  },
  {
   "cell_type": "code",
   "execution_count": 27,
   "id": "alike-patio",
   "metadata": {
    "slideshow": {
     "slide_type": "fragment"
    }
   },
   "outputs": [
    {
     "data": {
      "text/plain": [
       "{1, 3, 5, 7}"
      ]
     },
     "execution_count": 27,
     "metadata": {},
     "output_type": "execute_result"
    }
   ],
   "source": [
    "A.symmetric_difference(B)"
   ]
  },
  {
   "cell_type": "markdown",
   "id": "vertical-compromise",
   "metadata": {
    "slideshow": {
     "slide_type": "-"
    }
   },
   "source": [
    "## Exercícios\n",
    "\n",
    "1. Suponha os seguintes conjuntos:\n",
    "$$A=\\{p,q,t,w\\}$$\n",
    "$$ B = \\{r,t,v\\}$$ \n",
    "$$C=\\{p,s,t,u\\}$$\n",
    "\n",
    "Então determine:\n",
    "\n",
    "a. $B\\cap C$<br>\n",
    "b. $B\\cap C$<br>\n",
    "c. $A\\cup C$<br>\n",
    "d. $|A\\cup C|$<br>\n",
    "e. $A \\cap B \\cap C$<br>\n",
    "f. $B \\backslash C$<br>\n",
    "g. $(A\\cup B)\\cap C$<br>\n",
    "\n",
    "---\n",
    "\n",
    "2. Suponha os seguintes conjuntos:\n",
    "$$A=\\{2,4,5,6,7\\}$$\n",
    "$$B=\\{1,4,5,9\\}$$\n",
    "$$C=\\{x:x\\in \\mathbb{Z}\\land 2\\leq x<5\\}$$\n",
    "\n",
    "Então, determine:\n",
    "\n",
    "a. $B\\cup C$<br>\n",
    "b. $|B\\cup C|$<br>\n",
    "c. $B\\cap C$<br>\n",
    "d. $|B\\cap C|$<br>\n",
    "e. $A\\cup C$<br>\n",
    "f  $B\\backslash A$<br>\n",
    "g. $C\\backslash A$<br>\n",
    "h. $(C\\backslash A)\\cap (A\\backslash C)$<br>\n"
   ]
  }
 ],
 "metadata": {
  "celltoolbar": "Slideshow",
  "kernelspec": {
   "display_name": "Python 3",
   "language": "python",
   "name": "python3"
  },
  "language_info": {
   "codemirror_mode": {
    "name": "ipython",
    "version": 3
   },
   "file_extension": ".py",
   "mimetype": "text/x-python",
   "name": "python",
   "nbconvert_exporter": "python",
   "pygments_lexer": "ipython3",
   "version": "3.8.5"
  }
 },
 "nbformat": 4,
 "nbformat_minor": 5
}
